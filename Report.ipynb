{
 "cells": [
  {
   "cell_type": "markdown",
   "metadata": {},
   "source": [
    "# preprocess this dataset \n",
    "\n",
    "\n"
   ]
  },
  {
   "cell_type": "raw",
   "metadata": {},
   "source": [
    "這次的dataset所要預測的是close price的漲跌，因此需要得到close price漲跌的資料。 \n",
    "1.使用data['log_change'] = np.log(close) - np.log(close.shift(1))找出漲跌(漲的話為正，跌的話為負)，再由mapping函數將其定義 漲:1，跌:0\n",
    "2.將'Date'轉換為datetime，並將DataFrame的index轉為時間，刪去'Date'列 \n",
    "3.分出train和test，再提出'price_change'另作y_train、y_test，其他columns則依作業要求分成x_train、x_test"
   ]
  },
  {
   "cell_type": "markdown",
   "metadata": {},
   "source": [
    "# review on each classifier"
   ]
  },
  {
   "cell_type": "markdown",
   "metadata": {},
   "source": [
    "建議對照code瀏覽以下討論"
   ]
  },
  {
   "cell_type": "markdown",
   "metadata": {},
   "source": [
    "### Logistic Regression"
   ]
  },
  {
   "cell_type": "raw",
   "metadata": {},
   "source": [
    "先試著進行data visualization觀察每個feature和 data['price_change']之間的關係，發現'Volume'所做的圖相對特別，因此先持保留。\n",
    "\n",
    "利用'Open Price''Close Price''High Price''Low Price''Volume'這5個feature進行計算，發現了\n",
    "*在Gradient Descent Mode中得到 Test accuracy: 47.6%\n",
    "*在Logistic Regression Model中得到 Test accuracy: 52.3%\n",
    "\n",
    "現在嘗試去掉'Volume'，重新計算\n",
    "*在Gradient Descent Mode中得到 Test accuracy: 52.3%\n",
    "*在Logistic Regression Model中得到 Test accuracy: 82.5%"
   ]
  },
  {
   "cell_type": "markdown",
   "metadata": {},
   "source": [
    "### Neural Network"
   ]
  },
  {
   "cell_type": "raw",
   "metadata": {},
   "source": [
    "normalize the data之後，設參數及建model並訓練它，因為網絡的初始參數將是隨機確定的，我們將每次從損失表面的隨機部分開始，這將導致不同的結果。\n",
    "因此為了取得比較適當的accuracy，因此我們取20次accuracy的平均值，得到   avgerage testing accuracy 52.1%\n",
    "\n",
    "同樣地，由於在Logistic Regression中，我們已經得到去掉Volume會有更優的accuracy，因此嘗試取20次accuracy的平均值計算 avgerage testing accuracy 。\n",
    "\n",
    "注意:由於之前的x_train、x_test已被normalize，因此需要重新製造。\n",
    "\n",
    "結果發現Avgerage Testing Accuracy: 51.9%"
   ]
  },
  {
   "cell_type": "markdown",
   "metadata": {},
   "source": [
    "### SVM"
   ]
  },
  {
   "cell_type": "raw",
   "metadata": {},
   "source": [
    "在svm中，我們選取了2個feature做。經過Standardization之後，我們先取penalty = 0.05，得到 Train accuracy = 93.77 %,Test accuracy = 82.94 %；\n",
    "再取Penalty = 10.00, Train accuracy = 93.86 %, Test accuracy = 83.33 %"
   ]
  },
  {
   "cell_type": "markdown",
   "metadata": {},
   "source": [
    "## the highest classification accuracy in this dataset ?\n"
   ]
  },
  {
   "cell_type": "markdown",
   "metadata": {},
   "source": [
    "## SVM"
   ]
  },
  {
   "cell_type": "raw",
   "metadata": {},
   "source": [
    "單看這個dataset，發現Test accuracy以svm最佳。\n",
    "然而因為用Neural Network所得到的Avgerage Training Accuracy: 54.1%，另外2種分類器則都達到90%以上，因此猜想這個也是Neural Network做不好的原因之一。"
   ]
  },
  {
   "cell_type": "raw",
   "metadata": {},
   "source": [
    "如果其他的股票dataset也如同此股票的漲跌為明顯的上漲則結果應為相同，但若非如此則不一定。"
   ]
  },
  {
   "cell_type": "markdown",
   "metadata": {},
   "source": [
    "## improve your classifiers"
   ]
  },
  {
   "cell_type": "raw",
   "metadata": {},
   "source": [
    "由於實際上股票的波動容易受到多方面的影響，所以是相當難估計的，因此無論再怎樣調整參數等微調，都只是有限度的調整。\n",
    "因此就股價預測而言，要增進分類器，需要更多資訊的採納。"
   ]
  },
  {
   "cell_type": "code",
   "execution_count": null,
   "metadata": {},
   "outputs": [],
   "source": []
  }
 ],
 "metadata": {
  "kernelspec": {
   "display_name": "Python 3",
   "language": "python",
   "name": "python3"
  },
  "language_info": {
   "codemirror_mode": {
    "name": "ipython",
    "version": 3
   },
   "file_extension": ".py",
   "mimetype": "text/x-python",
   "name": "python",
   "nbconvert_exporter": "python",
   "pygments_lexer": "ipython3",
   "version": "3.7.1"
  }
 },
 "nbformat": 4,
 "nbformat_minor": 2
}
