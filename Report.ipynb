{
 "cells": [
  {
   "cell_type": "markdown",
   "metadata": {},
   "source": [
    "# preprocess this dataset \n",
    "\n",
    "\n"
   ]
  },
  {
   "cell_type": "markdown",
   "metadata": {},
   "source": [
    "這次的dataset所要預測的是close price的漲跌，因此需要得到close price漲跌的資料。這次是用今天的價格預測明天的漲跌。 \n",
    "* 使用train['log_change'] = np.log(close.shift(-1)) - np.log(close)找出漲跌(漲的話為正，跌的話為負)，再由mapping函數將其定義 漲:1，跌:0。將明天的漲跌向上shift一個row\n",
    "* 將切分好的x_train、x_test、y_train、y_test將最後一個row drop，因為我們不會使用x_train、x_test的最後一個row去預測(因為他們分別為我們的data的最後一天)，並且y_train、y_test的最後一個row為無意義。\n",
    "* x_train、x_test的日期drop"
   ]
  },
  {
   "cell_type": "markdown",
   "metadata": {},
   "source": [
    "# review on each classifier"
   ]
  },
  {
   "cell_type": "markdown",
   "metadata": {},
   "source": [
    "建議對照code瀏覽以下討論"
   ]
  },
  {
   "cell_type": "markdown",
   "metadata": {},
   "source": [
    "### Logistic Regression"
   ]
  },
  {
   "cell_type": "markdown",
   "metadata": {},
   "source": [
    "先試著進行data visualization觀察每個feature和 data['price_change']之間的關係，發現'Volume'所做的圖相對特別，因此先持保留的態度。\n",
    "\n",
    "利用'Open Price''Close Price''High Price''Low Price''Volume'這5個feature進行計算，發現了\n",
    "* 在Gradient Descent Mode中得到 Test accuracy: 47.8%\n",
    "* 在Logistic Regression Model中得到 Test accuracy: 52.1%，並且得到clf.predict(x_test)為全為1的array\n",
    "* 在Ridge Regression中，首先我選擇alphas的stop=0.5，發現所形成的圖形呈現遞減的趨勢。因此我調整stop=200，發現圖形呈現L的形狀，並且best_alpha也是200，所以我預估best_alphas會隨著stop加大而增加，不過從stop=200的圖形中可得200之後遞減的幅度微小。最後，我選擇利用stop=200觀察係數，獲得Coefficient for Volume 最大。\n",
    "\n",
    "現在嘗試去掉'Volume'，重新計算\n",
    "* 在Gradient Descent Mode中得到 Test accuracy: 52.1%\n",
    "* 在Logistic Regression Model中得到 Test accuracy: 52.1%，並且clf.predict(x_test) 非全為1，但大多數為1。和原先【在Logistic Regression Model中得到 Test accuracy: 52.1%，並且得到clf.predict(x_test)為全為1的array】做比較，結果並不會有明顯的差距。"
   ]
  },
  {
   "cell_type": "markdown",
   "metadata": {},
   "source": [
    "### Neural Network"
   ]
  },
  {
   "cell_type": "markdown",
   "metadata": {},
   "source": [
    "normalize the data之後，設參數及建model並訓練它，因為網絡的初始參數將是隨機確定的，我們將每次從損失表面的隨機部分開始，這將導致不同的結果。\n",
    "因此為了取得比較適當的accuracy，因此我們取20次accuracy的平均值，得到   avgerage testing accuracy 51.7%\n",
    "\n",
    "同樣地，由於在Logistic Regression中，我們已經得到去掉Volume會有更優的accuracy，因此嘗試取20次accuracy的平均值計算 avgerage testing accuracy 。\n",
    "\n",
    "注意:由於之前的x_train、x_test已被normalize，因此需要重新製造。\n",
    "\n",
    "結果發現Avgerage Testing Accuracy: 51.9%\n",
    "\n",
    "現在，試著改變參數值，得到\n",
    "* change hidden_units  ->52.1%\n",
    "* change l2            ->51.5%\n",
    "* change learning_rate ->52.1%\n",
    "* change epochs        ->51.5%\n",
    "* change batch_size    ->51.3%\n",
    "\n",
    "注意:除了 learning_rate縮減之外，其他都嘗試增加\n"
   ]
  },
  {
   "cell_type": "markdown",
   "metadata": {},
   "source": [
    "training loss的變化:\n",
    " \n",
    "在try to change的所有模型中，發現改變l2的50次train所產生的loss在0附近急降，之後便相當平順趨於0。"
   ]
  },
  {
   "cell_type": "markdown",
   "metadata": {},
   "source": [
    "### SVM"
   ]
  },
  {
   "cell_type": "markdown",
   "metadata": {},
   "source": [
    "在svm中，我們選取了2個feature做。經過Standardization之後\n",
    "* 先取penalty = 0.05，得到 Train accuracy = 54.62 %,Test accuracy = 51.79 %；\n",
    "* 再取 Penalty = 10.00, Train accuracy = 54.57 %, Test accuracy = 51.79 %\n",
    "\n",
    "觀察兩者的svm.predict(x_test)發現幾乎為1，差別相當微小。"
   ]
  },
  {
   "cell_type": "markdown",
   "metadata": {},
   "source": [
    "## the highest classification accuracy in this dataset ?\n",
    "# Neural Network"
   ]
  },
  {
   "cell_type": "markdown",
   "metadata": {},
   "source": [
    "單看這個dataset，發現Test accuracy以Neural Network最佳，並且是增加 hidden_units 或是 減少learning_rate\n",
    "\n",
    "不過無論使用哪一中分類器，accuracy都落在51~52%附近，精準度都不是太好。"
   ]
  },
  {
   "cell_type": "markdown",
   "metadata": {},
   "source": [
    "由於由predict可發現在此data的預估都是預估上漲為大宗，因此\n",
    "如果其他的股票dataset也如同此股票的漲跌為明顯的上漲則結果應為相同，但若非如此則不一定。"
   ]
  },
  {
   "cell_type": "markdown",
   "metadata": {},
   "source": [
    "## improve your classifiers"
   ]
  },
  {
   "cell_type": "markdown",
   "metadata": {},
   "source": [
    "由於實際上股票的波動容易受到多方面的影響，所以是相當難估計的，因此無論再怎樣調整參數等微調，都只是有限度的調整。\n",
    "因此就股價預測而言，要增進分類器，需要更多資訊的採納。"
   ]
  },
  {
   "cell_type": "code",
   "execution_count": null,
   "metadata": {},
   "outputs": [],
   "source": []
  }
 ],
 "metadata": {
  "kernelspec": {
   "display_name": "Python 3",
   "language": "python",
   "name": "python3"
  },
  "language_info": {
   "codemirror_mode": {
    "name": "ipython",
    "version": 3
   },
   "file_extension": ".py",
   "mimetype": "text/x-python",
   "name": "python",
   "nbconvert_exporter": "python",
   "pygments_lexer": "ipython3",
   "version": "3.7.1"
  }
 },
 "nbformat": 4,
 "nbformat_minor": 2
}
