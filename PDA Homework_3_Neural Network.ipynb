{
 "cells": [
  {
   "cell_type": "code",
   "execution_count": 1,
   "metadata": {},
   "outputs": [
    {
     "name": "stderr",
     "output_type": "stream",
     "text": [
      "Using TensorFlow backend.\n"
     ]
    }
   ],
   "source": [
    "import pandas as pd\n",
    "from keras import models, layers, optimizers, regularizers\n",
    "import numpy as np\n",
    "import random\n",
    "from sklearn import model_selection, preprocessing\n",
    "import tensorflow as tf\n",
    "from tqdm import tqdm\n",
    "import matplotlib.pyplot as plt"
   ]
  },
  {
   "cell_type": "markdown",
   "metadata": {},
   "source": [
    "## load the data"
   ]
  },
  {
   "cell_type": "code",
   "execution_count": 2,
   "metadata": {},
   "outputs": [],
   "source": [
    "file_name = 'stock.csv'\n",
    "data = pd.read_csv(file_name,encoding = \"ISO-8859-1\")"
   ]
  },
  {
   "cell_type": "code",
   "execution_count": 3,
   "metadata": {},
   "outputs": [
    {
     "data": {
      "text/html": [
       "<div>\n",
       "<style scoped>\n",
       "    .dataframe tbody tr th:only-of-type {\n",
       "        vertical-align: middle;\n",
       "    }\n",
       "\n",
       "    .dataframe tbody tr th {\n",
       "        vertical-align: top;\n",
       "    }\n",
       "\n",
       "    .dataframe thead th {\n",
       "        text-align: right;\n",
       "    }\n",
       "</style>\n",
       "<table border=\"1\" class=\"dataframe\">\n",
       "  <thead>\n",
       "    <tr style=\"text-align: right;\">\n",
       "      <th></th>\n",
       "      <th>Date</th>\n",
       "      <th>Open Price</th>\n",
       "      <th>Close Price</th>\n",
       "      <th>High Price</th>\n",
       "      <th>Low Price</th>\n",
       "      <th>Volume</th>\n",
       "    </tr>\n",
       "  </thead>\n",
       "  <tbody>\n",
       "    <tr>\n",
       "      <th>0</th>\n",
       "      <td>2-Jan-09</td>\n",
       "      <td>902.99</td>\n",
       "      <td>931.80</td>\n",
       "      <td>934.73</td>\n",
       "      <td>899.35</td>\n",
       "      <td>4048270080</td>\n",
       "    </tr>\n",
       "    <tr>\n",
       "      <th>1</th>\n",
       "      <td>5-Jan-09</td>\n",
       "      <td>929.17</td>\n",
       "      <td>927.45</td>\n",
       "      <td>936.63</td>\n",
       "      <td>919.53</td>\n",
       "      <td>5413910016</td>\n",
       "    </tr>\n",
       "    <tr>\n",
       "      <th>2</th>\n",
       "      <td>6-Jan-09</td>\n",
       "      <td>931.17</td>\n",
       "      <td>934.70</td>\n",
       "      <td>943.85</td>\n",
       "      <td>927.28</td>\n",
       "      <td>5392620032</td>\n",
       "    </tr>\n",
       "    <tr>\n",
       "      <th>3</th>\n",
       "      <td>7-Jan-09</td>\n",
       "      <td>927.45</td>\n",
       "      <td>906.65</td>\n",
       "      <td>927.45</td>\n",
       "      <td>902.37</td>\n",
       "      <td>4704940032</td>\n",
       "    </tr>\n",
       "    <tr>\n",
       "      <th>4</th>\n",
       "      <td>8-Jan-09</td>\n",
       "      <td>905.73</td>\n",
       "      <td>909.73</td>\n",
       "      <td>910.00</td>\n",
       "      <td>896.81</td>\n",
       "      <td>4991549952</td>\n",
       "    </tr>\n",
       "  </tbody>\n",
       "</table>\n",
       "</div>"
      ],
      "text/plain": [
       "       Date  Open Price  Close Price  High Price  Low Price      Volume\n",
       "0  2-Jan-09      902.99       931.80      934.73     899.35  4048270080\n",
       "1  5-Jan-09      929.17       927.45      936.63     919.53  5413910016\n",
       "2  6-Jan-09      931.17       934.70      943.85     927.28  5392620032\n",
       "3  7-Jan-09      927.45       906.65      927.45     902.37  4704940032\n",
       "4  8-Jan-09      905.73       909.73      910.00     896.81  4991549952"
      ]
     },
     "execution_count": 3,
     "metadata": {},
     "output_type": "execute_result"
    }
   ],
   "source": [
    "data.head()"
   ]
  },
  {
   "cell_type": "markdown",
   "metadata": {},
   "source": [
    "## prepare the data"
   ]
  },
  {
   "cell_type": "code",
   "execution_count": 4,
   "metadata": {},
   "outputs": [
    {
     "data": {
      "text/html": [
       "<div>\n",
       "<style scoped>\n",
       "    .dataframe tbody tr th:only-of-type {\n",
       "        vertical-align: middle;\n",
       "    }\n",
       "\n",
       "    .dataframe tbody tr th {\n",
       "        vertical-align: top;\n",
       "    }\n",
       "\n",
       "    .dataframe thead th {\n",
       "        text-align: right;\n",
       "    }\n",
       "</style>\n",
       "<table border=\"1\" class=\"dataframe\">\n",
       "  <thead>\n",
       "    <tr style=\"text-align: right;\">\n",
       "      <th></th>\n",
       "      <th>Date</th>\n",
       "      <th>Open Price</th>\n",
       "      <th>Close Price</th>\n",
       "      <th>High Price</th>\n",
       "      <th>Low Price</th>\n",
       "      <th>Volume</th>\n",
       "      <th>log_change</th>\n",
       "    </tr>\n",
       "  </thead>\n",
       "  <tbody>\n",
       "    <tr>\n",
       "      <th>0</th>\n",
       "      <td>2-Jan-09</td>\n",
       "      <td>902.99</td>\n",
       "      <td>931.80</td>\n",
       "      <td>934.73</td>\n",
       "      <td>899.35</td>\n",
       "      <td>4048270080</td>\n",
       "      <td>NaN</td>\n",
       "    </tr>\n",
       "    <tr>\n",
       "      <th>1</th>\n",
       "      <td>5-Jan-09</td>\n",
       "      <td>929.17</td>\n",
       "      <td>927.45</td>\n",
       "      <td>936.63</td>\n",
       "      <td>919.53</td>\n",
       "      <td>5413910016</td>\n",
       "      <td>-0.004679</td>\n",
       "    </tr>\n",
       "    <tr>\n",
       "      <th>2</th>\n",
       "      <td>6-Jan-09</td>\n",
       "      <td>931.17</td>\n",
       "      <td>934.70</td>\n",
       "      <td>943.85</td>\n",
       "      <td>927.28</td>\n",
       "      <td>5392620032</td>\n",
       "      <td>0.007787</td>\n",
       "    </tr>\n",
       "    <tr>\n",
       "      <th>3</th>\n",
       "      <td>7-Jan-09</td>\n",
       "      <td>927.45</td>\n",
       "      <td>906.65</td>\n",
       "      <td>927.45</td>\n",
       "      <td>902.37</td>\n",
       "      <td>4704940032</td>\n",
       "      <td>-0.030469</td>\n",
       "    </tr>\n",
       "    <tr>\n",
       "      <th>4</th>\n",
       "      <td>8-Jan-09</td>\n",
       "      <td>905.73</td>\n",
       "      <td>909.73</td>\n",
       "      <td>910.00</td>\n",
       "      <td>896.81</td>\n",
       "      <td>4991549952</td>\n",
       "      <td>0.003391</td>\n",
       "    </tr>\n",
       "  </tbody>\n",
       "</table>\n",
       "</div>"
      ],
      "text/plain": [
       "       Date  Open Price  Close Price  High Price  Low Price      Volume  \\\n",
       "0  2-Jan-09      902.99       931.80      934.73     899.35  4048270080   \n",
       "1  5-Jan-09      929.17       927.45      936.63     919.53  5413910016   \n",
       "2  6-Jan-09      931.17       934.70      943.85     927.28  5392620032   \n",
       "3  7-Jan-09      927.45       906.65      927.45     902.37  4704940032   \n",
       "4  8-Jan-09      905.73       909.73      910.00     896.81  4991549952   \n",
       "\n",
       "   log_change  \n",
       "0         NaN  \n",
       "1   -0.004679  \n",
       "2    0.007787  \n",
       "3   -0.030469  \n",
       "4    0.003391  "
      ]
     },
     "execution_count": 4,
     "metadata": {},
     "output_type": "execute_result"
    },
    {
     "data": {
      "image/png": "[encoded data removed]",
      "text/plain": [
       "<Figure size 432x288 with 1 Axes>"
      ]
     },
     "metadata": {
      "needs_background": "light"
     },
     "output_type": "display_data"
    }
   ],
   "source": [
    "close = data['Close Price']\n",
    "data['log_change'] = np.log(close) - np.log(close.shift(1))\n",
    "data.log_change.plot(grid=True).axhline(y=0, color='black', lw=2)\n",
    "data.head()"
   ]
  },
  {
   "cell_type": "code",
   "execution_count": 5,
   "metadata": {},
   "outputs": [
    {
     "data": {
      "text/html": [
       "<div>\n",
       "<style scoped>\n",
       "    .dataframe tbody tr th:only-of-type {\n",
       "        vertical-align: middle;\n",
       "    }\n",
       "\n",
       "    .dataframe tbody tr th {\n",
       "        vertical-align: top;\n",
       "    }\n",
       "\n",
       "    .dataframe thead th {\n",
       "        text-align: right;\n",
       "    }\n",
       "</style>\n",
       "<table border=\"1\" class=\"dataframe\">\n",
       "  <thead>\n",
       "    <tr style=\"text-align: right;\">\n",
       "      <th></th>\n",
       "      <th>Date</th>\n",
       "      <th>Open Price</th>\n",
       "      <th>Close Price</th>\n",
       "      <th>High Price</th>\n",
       "      <th>Low Price</th>\n",
       "      <th>Volume</th>\n",
       "      <th>log_change</th>\n",
       "      <th>price_change</th>\n",
       "    </tr>\n",
       "  </thead>\n",
       "  <tbody>\n",
       "    <tr>\n",
       "      <th>0</th>\n",
       "      <td>2-Jan-09</td>\n",
       "      <td>902.99</td>\n",
       "      <td>931.80</td>\n",
       "      <td>934.73</td>\n",
       "      <td>899.35</td>\n",
       "      <td>4048270080</td>\n",
       "      <td>NaN</td>\n",
       "      <td>0</td>\n",
       "    </tr>\n",
       "    <tr>\n",
       "      <th>1</th>\n",
       "      <td>5-Jan-09</td>\n",
       "      <td>929.17</td>\n",
       "      <td>927.45</td>\n",
       "      <td>936.63</td>\n",
       "      <td>919.53</td>\n",
       "      <td>5413910016</td>\n",
       "      <td>-0.004679</td>\n",
       "      <td>0</td>\n",
       "    </tr>\n",
       "    <tr>\n",
       "      <th>2</th>\n",
       "      <td>6-Jan-09</td>\n",
       "      <td>931.17</td>\n",
       "      <td>934.70</td>\n",
       "      <td>943.85</td>\n",
       "      <td>927.28</td>\n",
       "      <td>5392620032</td>\n",
       "      <td>0.007787</td>\n",
       "      <td>1</td>\n",
       "    </tr>\n",
       "    <tr>\n",
       "      <th>3</th>\n",
       "      <td>7-Jan-09</td>\n",
       "      <td>927.45</td>\n",
       "      <td>906.65</td>\n",
       "      <td>927.45</td>\n",
       "      <td>902.37</td>\n",
       "      <td>4704940032</td>\n",
       "      <td>-0.030469</td>\n",
       "      <td>0</td>\n",
       "    </tr>\n",
       "    <tr>\n",
       "      <th>4</th>\n",
       "      <td>8-Jan-09</td>\n",
       "      <td>905.73</td>\n",
       "      <td>909.73</td>\n",
       "      <td>910.00</td>\n",
       "      <td>896.81</td>\n",
       "      <td>4991549952</td>\n",
       "      <td>0.003391</td>\n",
       "      <td>1</td>\n",
       "    </tr>\n",
       "  </tbody>\n",
       "</table>\n",
       "</div>"
      ],
      "text/plain": [
       "       Date  Open Price  Close Price  High Price  Low Price      Volume  \\\n",
       "0  2-Jan-09      902.99       931.80      934.73     899.35  4048270080   \n",
       "1  5-Jan-09      929.17       927.45      936.63     919.53  5413910016   \n",
       "2  6-Jan-09      931.17       934.70      943.85     927.28  5392620032   \n",
       "3  7-Jan-09      927.45       906.65      927.45     902.37  4704940032   \n",
       "4  8-Jan-09      905.73       909.73      910.00     896.81  4991549952   \n",
       "\n",
       "   log_change  price_change  \n",
       "0         NaN             0  \n",
       "1   -0.004679             0  \n",
       "2    0.007787             1  \n",
       "3   -0.030469             0  \n",
       "4    0.003391             1  "
      ]
     },
     "execution_count": 5,
     "metadata": {},
     "output_type": "execute_result"
    }
   ],
   "source": [
    "def mapping(x):\n",
    "    if x>0:\n",
    "        return 1\n",
    "    else:\n",
    "        return 0\n",
    "data['price_change']=data['log_change'].apply(mapping)\n",
    "data.head()"
   ]
  },
  {
   "cell_type": "markdown",
   "metadata": {},
   "source": [
    "### 轉換成datetime"
   ]
  },
  {
   "cell_type": "code",
   "execution_count": 6,
   "metadata": {},
   "outputs": [
    {
     "name": "stdout",
     "output_type": "stream",
     "text": [
      "Date            datetime64[ns]\n",
      "Open Price             float64\n",
      "Close Price            float64\n",
      "High Price             float64\n",
      "Low Price              float64\n",
      "Volume                   int64\n",
      "log_change             float64\n",
      "price_change             int64\n",
      "dtype: object\n"
     ]
    }
   ],
   "source": [
    "data['Date']=pd.to_datetime(data['Date'])\n",
    "print(data.dtypes)"
   ]
  },
  {
   "cell_type": "markdown",
   "metadata": {},
   "source": [
    "### 將index轉為時間"
   ]
  },
  {
   "cell_type": "code",
   "execution_count": 7,
   "metadata": {
    "scrolled": true
   },
   "outputs": [
    {
     "data": {
      "text/html": [
       "<div>\n",
       "<style scoped>\n",
       "    .dataframe tbody tr th:only-of-type {\n",
       "        vertical-align: middle;\n",
       "    }\n",
       "\n",
       "    .dataframe tbody tr th {\n",
       "        vertical-align: top;\n",
       "    }\n",
       "\n",
       "    .dataframe thead th {\n",
       "        text-align: right;\n",
       "    }\n",
       "</style>\n",
       "<table border=\"1\" class=\"dataframe\">\n",
       "  <thead>\n",
       "    <tr style=\"text-align: right;\">\n",
       "      <th></th>\n",
       "      <th>Open Price</th>\n",
       "      <th>Close Price</th>\n",
       "      <th>High Price</th>\n",
       "      <th>Low Price</th>\n",
       "      <th>Volume</th>\n",
       "      <th>log_change</th>\n",
       "      <th>price_change</th>\n",
       "    </tr>\n",
       "    <tr>\n",
       "      <th>Date</th>\n",
       "      <th></th>\n",
       "      <th></th>\n",
       "      <th></th>\n",
       "      <th></th>\n",
       "      <th></th>\n",
       "      <th></th>\n",
       "      <th></th>\n",
       "    </tr>\n",
       "  </thead>\n",
       "  <tbody>\n",
       "    <tr>\n",
       "      <th>2009-01-02</th>\n",
       "      <td>902.99</td>\n",
       "      <td>931.80</td>\n",
       "      <td>934.73</td>\n",
       "      <td>899.35</td>\n",
       "      <td>4048270080</td>\n",
       "      <td>NaN</td>\n",
       "      <td>0</td>\n",
       "    </tr>\n",
       "    <tr>\n",
       "      <th>2009-01-05</th>\n",
       "      <td>929.17</td>\n",
       "      <td>927.45</td>\n",
       "      <td>936.63</td>\n",
       "      <td>919.53</td>\n",
       "      <td>5413910016</td>\n",
       "      <td>-0.004679</td>\n",
       "      <td>0</td>\n",
       "    </tr>\n",
       "    <tr>\n",
       "      <th>2009-01-06</th>\n",
       "      <td>931.17</td>\n",
       "      <td>934.70</td>\n",
       "      <td>943.85</td>\n",
       "      <td>927.28</td>\n",
       "      <td>5392620032</td>\n",
       "      <td>0.007787</td>\n",
       "      <td>1</td>\n",
       "    </tr>\n",
       "    <tr>\n",
       "      <th>2009-01-07</th>\n",
       "      <td>927.45</td>\n",
       "      <td>906.65</td>\n",
       "      <td>927.45</td>\n",
       "      <td>902.37</td>\n",
       "      <td>4704940032</td>\n",
       "      <td>-0.030469</td>\n",
       "      <td>0</td>\n",
       "    </tr>\n",
       "    <tr>\n",
       "      <th>2009-01-08</th>\n",
       "      <td>905.73</td>\n",
       "      <td>909.73</td>\n",
       "      <td>910.00</td>\n",
       "      <td>896.81</td>\n",
       "      <td>4991549952</td>\n",
       "      <td>0.003391</td>\n",
       "      <td>1</td>\n",
       "    </tr>\n",
       "  </tbody>\n",
       "</table>\n",
       "</div>"
      ],
      "text/plain": [
       "            Open Price  Close Price  High Price  Low Price      Volume  \\\n",
       "Date                                                                     \n",
       "2009-01-02      902.99       931.80      934.73     899.35  4048270080   \n",
       "2009-01-05      929.17       927.45      936.63     919.53  5413910016   \n",
       "2009-01-06      931.17       934.70      943.85     927.28  5392620032   \n",
       "2009-01-07      927.45       906.65      927.45     902.37  4704940032   \n",
       "2009-01-08      905.73       909.73      910.00     896.81  4991549952   \n",
       "\n",
       "            log_change  price_change  \n",
       "Date                                  \n",
       "2009-01-02         NaN             0  \n",
       "2009-01-05   -0.004679             0  \n",
       "2009-01-06    0.007787             1  \n",
       "2009-01-07   -0.030469             0  \n",
       "2009-01-08    0.003391             1  "
      ]
     },
     "execution_count": 7,
     "metadata": {},
     "output_type": "execute_result"
    }
   ],
   "source": [
    "data=data.set_index(data['Date'],drop=True)\n",
    "del data['Date']\n",
    "data.head()"
   ]
  },
  {
   "cell_type": "code",
   "execution_count": 8,
   "metadata": {},
   "outputs": [
    {
     "data": {
      "text/html": [
       "<div>\n",
       "<style scoped>\n",
       "    .dataframe tbody tr th:only-of-type {\n",
       "        vertical-align: middle;\n",
       "    }\n",
       "\n",
       "    .dataframe tbody tr th {\n",
       "        vertical-align: top;\n",
       "    }\n",
       "\n",
       "    .dataframe thead th {\n",
       "        text-align: right;\n",
       "    }\n",
       "</style>\n",
       "<table border=\"1\" class=\"dataframe\">\n",
       "  <thead>\n",
       "    <tr style=\"text-align: right;\">\n",
       "      <th></th>\n",
       "      <th>Open Price</th>\n",
       "      <th>Close Price</th>\n",
       "      <th>High Price</th>\n",
       "      <th>Low Price</th>\n",
       "      <th>Volume</th>\n",
       "      <th>log_change</th>\n",
       "      <th>price_change</th>\n",
       "    </tr>\n",
       "    <tr>\n",
       "      <th>Date</th>\n",
       "      <th></th>\n",
       "      <th></th>\n",
       "      <th></th>\n",
       "      <th></th>\n",
       "      <th></th>\n",
       "      <th></th>\n",
       "      <th></th>\n",
       "    </tr>\n",
       "  </thead>\n",
       "  <tbody>\n",
       "    <tr>\n",
       "      <th>2009-01-02</th>\n",
       "      <td>902.99</td>\n",
       "      <td>931.80</td>\n",
       "      <td>934.73</td>\n",
       "      <td>899.35</td>\n",
       "      <td>4048270080</td>\n",
       "      <td>NaN</td>\n",
       "      <td>0</td>\n",
       "    </tr>\n",
       "    <tr>\n",
       "      <th>2009-01-05</th>\n",
       "      <td>929.17</td>\n",
       "      <td>927.45</td>\n",
       "      <td>936.63</td>\n",
       "      <td>919.53</td>\n",
       "      <td>5413910016</td>\n",
       "      <td>-0.004679</td>\n",
       "      <td>0</td>\n",
       "    </tr>\n",
       "    <tr>\n",
       "      <th>2009-01-06</th>\n",
       "      <td>931.17</td>\n",
       "      <td>934.70</td>\n",
       "      <td>943.85</td>\n",
       "      <td>927.28</td>\n",
       "      <td>5392620032</td>\n",
       "      <td>0.007787</td>\n",
       "      <td>1</td>\n",
       "    </tr>\n",
       "    <tr>\n",
       "      <th>2009-01-07</th>\n",
       "      <td>927.45</td>\n",
       "      <td>906.65</td>\n",
       "      <td>927.45</td>\n",
       "      <td>902.37</td>\n",
       "      <td>4704940032</td>\n",
       "      <td>-0.030469</td>\n",
       "      <td>0</td>\n",
       "    </tr>\n",
       "    <tr>\n",
       "      <th>2009-01-08</th>\n",
       "      <td>905.73</td>\n",
       "      <td>909.73</td>\n",
       "      <td>910.00</td>\n",
       "      <td>896.81</td>\n",
       "      <td>4991549952</td>\n",
       "      <td>0.003391</td>\n",
       "      <td>1</td>\n",
       "    </tr>\n",
       "  </tbody>\n",
       "</table>\n",
       "</div>"
      ],
      "text/plain": [
       "            Open Price  Close Price  High Price  Low Price      Volume  \\\n",
       "Date                                                                     \n",
       "2009-01-02      902.99       931.80      934.73     899.35  4048270080   \n",
       "2009-01-05      929.17       927.45      936.63     919.53  5413910016   \n",
       "2009-01-06      931.17       934.70      943.85     927.28  5392620032   \n",
       "2009-01-07      927.45       906.65      927.45     902.37  4704940032   \n",
       "2009-01-08      905.73       909.73      910.00     896.81  4991549952   \n",
       "\n",
       "            log_change  price_change  \n",
       "Date                                  \n",
       "2009-01-02         NaN             0  \n",
       "2009-01-05   -0.004679             0  \n",
       "2009-01-06    0.007787             1  \n",
       "2009-01-07   -0.030469             0  \n",
       "2009-01-08    0.003391             1  "
      ]
     },
     "execution_count": 8,
     "metadata": {},
     "output_type": "execute_result"
    }
   ],
   "source": [
    "data.index=pd.to_datetime(data.index,format='%Y-%m-%d')#將index轉為時間datetime\n",
    "data.head()"
   ]
  },
  {
   "cell_type": "markdown",
   "metadata": {},
   "source": [
    "### create two new variables, train and test including the correct data points. "
   ]
  },
  {
   "cell_type": "code",
   "execution_count": 9,
   "metadata": {},
   "outputs": [],
   "source": [
    "train = data[data.index.year<=2017].drop(columns=['log_change'])\n",
    "test = data[data.index.year>2017].drop(columns=['log_change'])"
   ]
  },
  {
   "cell_type": "code",
   "execution_count": 10,
   "metadata": {},
   "outputs": [],
   "source": [
    "x_train = train.loc[:,train.columns !='price_change']\n",
    "y_train = train['price_change']\n",
    "x_test = test.loc[:,test.columns !='price_change']\n",
    "y_test = test['price_change']"
   ]
  },
  {
   "cell_type": "markdown",
   "metadata": {},
   "source": [
    "### normalize the data"
   ]
  },
  {
   "cell_type": "code",
   "execution_count": 11,
   "metadata": {},
   "outputs": [],
   "source": [
    "x_train = preprocessing.normalize(x_train)\n",
    "x_test = preprocessing.normalize(x_test)"
   ]
  },
  {
   "cell_type": "code",
   "execution_count": 12,
   "metadata": {},
   "outputs": [
    {
     "data": {
      "text/plain": [
       "array([[1.45344351e-06, 1.45998575e-06, 1.46002907e-06, 1.45270155e-06,\n",
       "        1.00000000e+00],\n",
       "       [1.29046974e-06, 1.29774518e-06, 1.29837179e-06, 1.29043147e-06,\n",
       "        1.00000000e+00],\n",
       "       [1.29443629e-06, 1.29666404e-06, 1.29918693e-06, 1.29432204e-06,\n",
       "        1.00000000e+00],\n",
       "       ...,\n",
       "       [1.02347978e-06, 1.04289342e-06, 1.04300656e-06, 1.00480782e-06,\n",
       "        1.00000000e+00],\n",
       "       [1.20091219e-06, 1.19464995e-06, 1.21124512e-06, 1.18847423e-06,\n",
       "        1.00000000e+00],\n",
       "       [1.30651228e-06, 1.31064784e-06, 1.31189740e-06, 1.29808432e-06,\n",
       "        1.00000000e+00]])"
      ]
     },
     "execution_count": 12,
     "metadata": {},
     "output_type": "execute_result"
    }
   ],
   "source": [
    "x_test"
   ]
  },
  {
   "cell_type": "markdown",
   "metadata": {},
   "source": [
    "### setting the parameters"
   ]
  },
  {
   "cell_type": "code",
   "execution_count": 13,
   "metadata": {},
   "outputs": [],
   "source": [
    "hidden_units = 10    # how many neurons in the hidden layer\n",
    "activation = 'relu'  # activation function for hidden layer\n",
    "l2 = 0.001           # regularization - how much we penalize large parameter values\n",
    "learning_rate = 0.1  # how big our steps are in gradient descent\n",
    "epochs = 20          # how many epochs to train for\n",
    "batch_size = 32      # how many samples to use for each gradient descent update"
   ]
  },
  {
   "cell_type": "markdown",
   "metadata": {},
   "source": [
    "### build the modal"
   ]
  },
  {
   "cell_type": "code",
   "execution_count": 14,
   "metadata": {},
   "outputs": [
    {
     "name": "stdout",
     "output_type": "stream",
     "text": [
      "WARNING:tensorflow:From C:\\Users\\asus\\Anaconda3\\lib\\site-packages\\tensorflow\\python\\framework\\op_def_library.py:263: colocate_with (from tensorflow.python.framework.ops) is deprecated and will be removed in a future version.\n",
      "Instructions for updating:\n",
      "Colocations handled automatically by placer.\n"
     ]
    }
   ],
   "source": [
    "# create a sequential model\n",
    "model = models.Sequential()\n",
    "\n",
    "# add the hidden layer\n",
    "model.add(layers.Dense(input_dim=5,\n",
    "                       units=hidden_units, \n",
    "                       activation=activation))\n",
    "\n",
    "# add the output layer\n",
    "model.add(layers.Dense(input_dim=hidden_units,\n",
    "                       units=1,\n",
    "                       activation='sigmoid'))\n",
    "\n",
    "# define our loss function and optimizer\n",
    "model.compile(loss='binary_crossentropy',\n",
    "              # Adam is a kind of gradient descent\n",
    "              optimizer=optimizers.Adam(lr=learning_rate),\n",
    "              metrics=['accuracy'])"
   ]
  },
  {
   "cell_type": "markdown",
   "metadata": {},
   "source": [
    "### train the model"
   ]
  },
  {
   "cell_type": "code",
   "execution_count": 15,
   "metadata": {},
   "outputs": [
    {
     "name": "stdout",
     "output_type": "stream",
     "text": [
      "WARNING:tensorflow:From C:\\Users\\asus\\Anaconda3\\lib\\site-packages\\tensorflow\\python\\ops\\math_ops.py:3066: to_int32 (from tensorflow.python.ops.math_ops) is deprecated and will be removed in a future version.\n",
      "Instructions for updating:\n",
      "Use tf.cast instead.\n",
      "Epoch 1/10\n",
      "2264/2264 [==============================] - ETA: 2:08 - loss: 0.7646 - acc: 0.375 - ETA: 3s - loss: 0.6965 - acc: 0.5557  - 2s 858us/step - loss: 0.6934 - acc: 0.5336\n",
      "Epoch 2/10\n",
      "2264/2264 [==============================] - ETA: 0s - loss: 0.6380 - acc: 0.718 - ETA: 0s - loss: 0.6933 - acc: 0.545 - 0s 43us/step - loss: 0.6930 - acc: 0.5459\n",
      "Epoch 3/10\n",
      "2264/2264 [==============================] - ETA: 0s - loss: 0.7058 - acc: 0.500 - ETA: 0s - loss: 0.6949 - acc: 0.520 - 0s 36us/step - loss: 0.6937 - acc: 0.5256\n",
      "Epoch 4/10\n",
      "2264/2264 [==============================] - ETA: 0s - loss: 0.6683 - acc: 0.656 - ETA: 0s - loss: 0.6941 - acc: 0.524 - 0s 44us/step - loss: 0.6922 - acc: 0.5336\n",
      "Epoch 5/10\n",
      "2264/2264 [==============================] - ETA: 0s - loss: 0.6777 - acc: 0.593 - ETA: 0s - loss: 0.6956 - acc: 0.500 - 0s 36us/step - loss: 0.6909 - acc: 0.5256\n",
      "Epoch 6/10\n",
      "2264/2264 [==============================] - ETA: 0s - loss: 0.6755 - acc: 0.593 - ETA: 0s - loss: 0.6898 - acc: 0.555 - 0s 33us/step - loss: 0.6915 - acc: 0.5380\n",
      "Epoch 7/10\n",
      "2264/2264 [==============================] - ETA: 0s - loss: 0.6854 - acc: 0.593 - ETA: 0s - loss: 0.6911 - acc: 0.535 - ETA: 0s - loss: 0.6898 - acc: 0.531 - 0s 57us/step - loss: 0.6901 - acc: 0.5318\n",
      "Epoch 8/10\n",
      "2264/2264 [==============================] - ETA: 0s - loss: 0.6760 - acc: 0.593 - ETA: 0s - loss: 0.6936 - acc: 0.540 - 0s 41us/step - loss: 0.6910 - acc: 0.5459\n",
      "Epoch 9/10\n",
      "2264/2264 [==============================] - ETA: 0s - loss: 0.7081 - acc: 0.468 - ETA: 0s - loss: 0.6905 - acc: 0.538 - 0s 38us/step - loss: 0.6909 - acc: 0.5345\n",
      "Epoch 10/10\n",
      "2264/2264 [==============================] - ETA: 0s - loss: 0.6468 - acc: 0.687 - ETA: 0s - loss: 0.6882 - acc: 0.549 - 0s 33us/step - loss: 0.6895 - acc: 0.5459\n",
      "2264/2264 [==============================] - ETA:  - ETA:  - 0s 61us/step\n",
      "252/252 [==============================] - ETA:  - 0s 61us/step\n",
      "Training accuracy: 0.5459363958650258\n",
      "Testing accuracy: 0.5238095242825765\n"
     ]
    },
    {
     "data": {
      "image/png": "[encoded data removed]",
      "text/plain": [
       "<Figure size 432x288 with 1 Axes>"
      ]
     },
     "metadata": {
      "needs_background": "light"
     },
     "output_type": "display_data"
    }
   ],
   "source": [
    "# train the parameters\n",
    "history = model.fit(x_train, y_train, epochs=10, batch_size=batch_size)\n",
    "\n",
    "# evaluate accuracy\n",
    "train_acc = model.evaluate(x_train, y_train, batch_size=32)[1]\n",
    "test_acc = model.evaluate(x_test, y_test, batch_size=32)[1]\n",
    "print('Training accuracy: %s' % train_acc)\n",
    "print('Testing accuracy: %s' % test_acc)\n",
    "\n",
    "losses = history.history['loss']\n",
    "plt.plot(range(len(losses)), losses, 'r')\n",
    "plt.show()"
   ]
  },
  {
   "cell_type": "markdown",
   "metadata": {},
   "source": [
    "The initial parameters of the network will be randomly determined. We will start on a random part of the loss surface each time. This will lead to a different result.\n",
    "This is actually a research probelm at the moment. So what can we do if we want a fair competition? We will train our network 20 times and take the average."
   ]
  },
  {
   "cell_type": "markdown",
   "metadata": {},
   "source": [
    "###  take the average accuracy"
   ]
  },
  {
   "cell_type": "code",
   "execution_count": 16,
   "metadata": {},
   "outputs": [],
   "source": [
    "def train_and_evaluate(model, x_train, y_train, x_test, y_test, n=20):\n",
    "    train_accs = []\n",
    "    test_accs = []\n",
    "    with tqdm(total=n) as progress_bar:\n",
    "        for _ in range(n):\n",
    "            model.fit(\n",
    "                x_train, \n",
    "                y_train, \n",
    "                epochs=epochs, \n",
    "                batch_size=batch_size,  \n",
    "                verbose=False)\n",
    "            train_accs.append(model.evaluate(x_train, y_train, batch_size=32, verbose=False)[1])\n",
    "            test_accs.append(model.evaluate(x_test, y_test, batch_size=32, verbose=False)[1])\n",
    "            progress_bar.update()\n",
    "    print('Avgerage Training Accuracy: %s' % np.average(train_accs))\n",
    "    print('Avgerage Testing Accuracy: %s' % np.average(test_accs))\n",
    "    return train_accs, test_accs"
   ]
  },
  {
   "cell_type": "code",
   "execution_count": 17,
   "metadata": {},
   "outputs": [
    {
     "name": "stderr",
     "output_type": "stream",
     "text": [
      "100%|██████████████████████████████████████████████████████████████████████████████████| 20/20 [00:20<00:00,  1.00it/s]\n"
     ]
    },
    {
     "name": "stdout",
     "output_type": "stream",
     "text": [
      "Avgerage Training Accuracy: 0.5413427562943195\n",
      "Avgerage Testing Accuracy: 0.5214285720198873\n"
     ]
    }
   ],
   "source": [
    "_, test_accs = train_and_evaluate(model, x_train, y_train, x_test, y_test)"
   ]
  },
  {
   "cell_type": "markdown",
   "metadata": {},
   "source": [
    "### violin plot"
   ]
  },
  {
   "cell_type": "code",
   "execution_count": 18,
   "metadata": {},
   "outputs": [
    {
     "data": {
      "image/png": "[encoded data removed]",
      "text/plain": [
       "<Figure size 432x288 with 1 Axes>"
      ]
     },
     "metadata": {
      "needs_background": "light"
     },
     "output_type": "display_data"
    }
   ],
   "source": [
    "plt.violinplot(test_accs)\n",
    "plt.show()"
   ]
  },
  {
   "cell_type": "markdown",
   "metadata": {},
   "source": [
    "we can get the avgerage testing accuracy 52.1%"
   ]
  },
  {
   "cell_type": "markdown",
   "metadata": {},
   "source": [
    "## drop Volume"
   ]
  },
  {
   "cell_type": "code",
   "execution_count": 19,
   "metadata": {},
   "outputs": [],
   "source": [
    "x_train = train.loc[:,train.columns !='price_change']\n",
    "y_train = train['price_change']\n",
    "x_test = test.loc[:,test.columns !='price_change']\n",
    "y_test = test['price_change']"
   ]
  },
  {
   "cell_type": "code",
   "execution_count": 20,
   "metadata": {},
   "outputs": [],
   "source": [
    "x_train = x_train.drop(['Volume'], axis=1)\n",
    "x_test = x_test.drop(['Volume'], axis=1)"
   ]
  },
  {
   "cell_type": "markdown",
   "metadata": {},
   "source": [
    "### normalize the data"
   ]
  },
  {
   "cell_type": "code",
   "execution_count": 21,
   "metadata": {},
   "outputs": [],
   "source": [
    "x_train = preprocessing.normalize(x_train)\n",
    "x_test = preprocessing.normalize(x_test)"
   ]
  },
  {
   "cell_type": "markdown",
   "metadata": {},
   "source": [
    "### setting the parameters"
   ]
  },
  {
   "cell_type": "code",
   "execution_count": 22,
   "metadata": {},
   "outputs": [],
   "source": [
    "hidden_units = 10    # how many neurons in the hidden layer\n",
    "activation = 'relu'  # activation function for hidden layer\n",
    "l2 = 0.001           # regularization - how much we penalize large parameter values\n",
    "learning_rate = 0.1  # how big our steps are in gradient descent\n",
    "epochs = 20          # how many epochs to train for\n",
    "batch_size = 32      # how many samples to use for each gradient descent update"
   ]
  },
  {
   "cell_type": "markdown",
   "metadata": {},
   "source": [
    "### build the modal"
   ]
  },
  {
   "cell_type": "code",
   "execution_count": 23,
   "metadata": {},
   "outputs": [],
   "source": [
    "# create a sequential model\n",
    "model = models.Sequential()\n",
    "\n",
    "# add the hidden layer\n",
    "model.add(layers.Dense(input_dim=4,\n",
    "                       units=hidden_units, \n",
    "                       activation=activation))\n",
    "\n",
    "# add the output layer\n",
    "model.add(layers.Dense(input_dim=hidden_units,\n",
    "                       units=1,\n",
    "                       activation='sigmoid'))\n",
    "\n",
    "# define our loss function and optimizer\n",
    "model.compile(loss='binary_crossentropy',\n",
    "              # Adam is a kind of gradient descent\n",
    "              optimizer=optimizers.Adam(lr=learning_rate),\n",
    "              metrics=['accuracy'])"
   ]
  },
  {
   "cell_type": "markdown",
   "metadata": {},
   "source": [
    "### train the model"
   ]
  },
  {
   "cell_type": "code",
   "execution_count": 24,
   "metadata": {},
   "outputs": [
    {
     "name": "stdout",
     "output_type": "stream",
     "text": [
      "Epoch 1/10\n",
      "2264/2264 [==============================] - ETA: 16s - loss: 0.7192 - acc: 0.46 - ETA: 0s - loss: 0.7078 - acc: 0.4953 - 0s 151us/step - loss: 0.7018 - acc: 0.5053\n",
      "Epoch 2/10\n",
      "2264/2264 [==============================] - ETA: 0s - loss: 0.6858 - acc: 0.562 - ETA: 0s - loss: 0.6910 - acc: 0.541 - 0s 43us/step - loss: 0.6901 - acc: 0.5459\n",
      "Epoch 3/10\n",
      "2264/2264 [==============================] - ETA: 0s - loss: 0.6615 - acc: 0.656 - ETA: 0s - loss: 0.6880 - acc: 0.558 - 0s 34us/step - loss: 0.6910 - acc: 0.5459\n",
      "Epoch 4/10\n",
      "2264/2264 [==============================] - ETA: 0s - loss: 0.6912 - acc: 0.531 - ETA: 0s - loss: 0.6906 - acc: 0.531 - 0s 39us/step - loss: 0.6903 - acc: 0.5353\n",
      "Epoch 5/10\n",
      "2264/2264 [==============================] - ETA: 0s - loss: 0.7065 - acc: 0.437 - ETA: 0s - loss: 0.6924 - acc: 0.543 - 0s 39us/step - loss: 0.6938 - acc: 0.5283\n",
      "Epoch 6/10\n",
      "2264/2264 [==============================] - ETA: 0s - loss: 0.6617 - acc: 0.656 - ETA: 0s - loss: 0.6895 - acc: 0.550 - 0s 42us/step - loss: 0.6907 - acc: 0.5459\n",
      "Epoch 7/10\n",
      "2264/2264 [==============================] - ETA: 0s - loss: 0.6913 - acc: 0.531 - ETA: 0s - loss: 0.6908 - acc: 0.535 - ETA: 0s - loss: 0.6890 - acc: 0.543 - 0s 54us/step - loss: 0.6899 - acc: 0.5415\n",
      "Epoch 8/10\n",
      "2264/2264 [==============================] - ETA: 0s - loss: 0.6651 - acc: 0.625 - ETA: 0s - loss: 0.6945 - acc: 0.515 - 0s 51us/step - loss: 0.6905 - acc: 0.5380\n",
      "Epoch 9/10\n",
      "2264/2264 [==============================] - ETA: 0s - loss: 0.7219 - acc: 0.437 - ETA: 0s - loss: 0.6951 - acc: 0.496 - ETA: 0s - loss: 0.6920 - acc: 0.524 - 0s 57us/step - loss: 0.6915 - acc: 0.5274\n",
      "Epoch 10/10\n",
      "2264/2264 [==============================] - ETA: 0s - loss: 0.6554 - acc: 0.687 - ETA: 0s - loss: 0.6938 - acc: 0.548 - 0s 53us/step - loss: 0.6924 - acc: 0.5459\n",
      "2264/2264 [==============================] - ETA:  - ETA:  - 0s 56us/step\n",
      "252/252 [==============================] - ETA:  - 0s 48us/step\n",
      "Training accuracy: 0.5459363958650258\n",
      "Testing accuracy: 0.5238095242825765\n"
     ]
    },
    {
     "data": {
      "image/png": "[encoded data removed]",
      "text/plain": [
       "<Figure size 432x288 with 1 Axes>"
      ]
     },
     "metadata": {
      "needs_background": "light"
     },
     "output_type": "display_data"
    }
   ],
   "source": [
    "# train the parameters\n",
    "history = model.fit(x_train, y_train, epochs=10, batch_size=batch_size)\n",
    "\n",
    "# evaluate accuracy\n",
    "train_acc = model.evaluate(x_train, y_train, batch_size=32)[1]\n",
    "test_acc = model.evaluate(x_test, y_test, batch_size=32)[1]\n",
    "print('Training accuracy: %s' % train_acc)\n",
    "print('Testing accuracy: %s' % test_acc)\n",
    "\n",
    "losses = history.history['loss']\n",
    "plt.plot(range(len(losses)), losses, 'r')\n",
    "plt.show()"
   ]
  },
  {
   "cell_type": "markdown",
   "metadata": {},
   "source": [
    "### take the average accuracy"
   ]
  },
  {
   "cell_type": "code",
   "execution_count": 25,
   "metadata": {},
   "outputs": [
    {
     "name": "stderr",
     "output_type": "stream",
     "text": [
      "100%|██████████████████████████████████████████████████████████████████████████████████| 20/20 [00:21<00:00,  1.03s/it]\n"
     ]
    },
    {
     "name": "stdout",
     "output_type": "stream",
     "text": [
      "Avgerage Training Accuracy: 0.5367491167236131\n",
      "Avgerage Testing Accuracy: 0.5190476197571982\n"
     ]
    }
   ],
   "source": [
    "_, test_accs = train_and_evaluate(model, x_train, y_train, x_test, y_test)"
   ]
  },
  {
   "cell_type": "code",
   "execution_count": 26,
   "metadata": {},
   "outputs": [
    {
     "data": {
      "image/png": "[encoded data removed]",
      "text/plain": [
       "<Figure size 432x288 with 1 Axes>"
      ]
     },
     "metadata": {
      "needs_background": "light"
     },
     "output_type": "display_data"
    }
   ],
   "source": [
    "plt.violinplot(test_accs)\n",
    "plt.show()"
   ]
  },
  {
   "cell_type": "code",
   "execution_count": null,
   "metadata": {},
   "outputs": [],
   "source": []
  }
 ],
 "metadata": {
  "kernelspec": {
   "display_name": "Python 3",
   "language": "python",
   "name": "python3"
  },
  "language_info": {
   "codemirror_mode": {
    "name": "ipython",
    "version": 3
   },
   "file_extension": ".py",
   "mimetype": "text/x-python",
   "name": "python",
   "nbconvert_exporter": "python",
   "pygments_lexer": "ipython3",
   "version": "3.7.1"
  }
 },
 "nbformat": 4,
 "nbformat_minor": 2
}
